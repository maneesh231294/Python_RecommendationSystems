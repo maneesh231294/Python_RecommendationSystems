{
 "cells": [
  {
   "cell_type": "markdown",
   "metadata": {},
   "source": [
    "# Project Recommendation Systems"
   ]
  },
  {
   "cell_type": "markdown",
   "metadata": {},
   "source": [
    "## Importing Required Libraries"
   ]
  },
  {
   "cell_type": "code",
   "execution_count": 1,
   "metadata": {},
   "outputs": [],
   "source": [
    "import numpy as np\n",
    "import pandas as pd\n",
    "import seaborn as sns\n",
    "import matplotlib.pyplot as plt\n",
    "%matplotlib inline"
   ]
  },
  {
   "cell_type": "markdown",
   "metadata": {},
   "source": [
    "# Context:"
   ]
  },
  {
   "cell_type": "markdown",
   "metadata": {},
   "source": [
    "Everyday a million products are being recommended to users based on popularity and other metrics on e-commerce websites. <br>\n",
    "The most popular e-commerce website boosts average order value by 50%, increases revenues by 300%, and improves conversion. <br>\n",
    "In addition to being a powerful tool for increasing revenues, product recommendations are so essential that customers now expect to see similar\n",
    "features on all other eCommerce sites."
   ]
  },
  {
   "cell_type": "markdown",
   "metadata": {},
   "source": [
    "# Attribute Information:"
   ]
  },
  {
   "cell_type": "markdown",
   "metadata": {},
   "source": [
    "- userid : unique identifier for a customer\n",
    "- productid : unique identifier for a product\n",
    "- ratings : rating\n",
    "- timestamp : timestamp of rating"
   ]
  },
  {
   "cell_type": "markdown",
   "metadata": {},
   "source": [
    "As part of this project, our objective is to make a recommendation system that recommends at least five(5)\n",
    "new products based on the user's habits."
   ]
  },
  {
   "cell_type": "markdown",
   "metadata": {},
   "source": [
    "# Reading the dataset and displaying the first 10 records of the dataset."
   ]
  },
  {
   "cell_type": "code",
   "execution_count": 2,
   "metadata": {},
   "outputs": [],
   "source": [
    "rating = pd.read_csv('ratings_Electronics.csv', header=None, names =['userid', 'productid', 'ratings', 'timestamp'])"
   ]
  },
  {
   "cell_type": "code",
   "execution_count": 3,
   "metadata": {
    "scrolled": true
   },
   "outputs": [
    {
     "data": {
      "text/html": [
       "<div>\n",
       "<style scoped>\n",
       "    .dataframe tbody tr th:only-of-type {\n",
       "        vertical-align: middle;\n",
       "    }\n",
       "\n",
       "    .dataframe tbody tr th {\n",
       "        vertical-align: top;\n",
       "    }\n",
       "\n",
       "    .dataframe thead th {\n",
       "        text-align: right;\n",
       "    }\n",
       "</style>\n",
       "<table border=\"1\" class=\"dataframe\">\n",
       "  <thead>\n",
       "    <tr style=\"text-align: right;\">\n",
       "      <th></th>\n",
       "      <th>userid</th>\n",
       "      <th>productid</th>\n",
       "      <th>ratings</th>\n",
       "      <th>timestamp</th>\n",
       "    </tr>\n",
       "  </thead>\n",
       "  <tbody>\n",
       "    <tr>\n",
       "      <th>0</th>\n",
       "      <td>AKM1MP6P0OYPR</td>\n",
       "      <td>0132793040</td>\n",
       "      <td>5.0</td>\n",
       "      <td>1365811200</td>\n",
       "    </tr>\n",
       "    <tr>\n",
       "      <th>1</th>\n",
       "      <td>A2CX7LUOHB2NDG</td>\n",
       "      <td>0321732944</td>\n",
       "      <td>5.0</td>\n",
       "      <td>1341100800</td>\n",
       "    </tr>\n",
       "    <tr>\n",
       "      <th>2</th>\n",
       "      <td>A2NWSAGRHCP8N5</td>\n",
       "      <td>0439886341</td>\n",
       "      <td>1.0</td>\n",
       "      <td>1367193600</td>\n",
       "    </tr>\n",
       "    <tr>\n",
       "      <th>3</th>\n",
       "      <td>A2WNBOD3WNDNKT</td>\n",
       "      <td>0439886341</td>\n",
       "      <td>3.0</td>\n",
       "      <td>1374451200</td>\n",
       "    </tr>\n",
       "    <tr>\n",
       "      <th>4</th>\n",
       "      <td>A1GI0U4ZRJA8WN</td>\n",
       "      <td>0439886341</td>\n",
       "      <td>1.0</td>\n",
       "      <td>1334707200</td>\n",
       "    </tr>\n",
       "    <tr>\n",
       "      <th>5</th>\n",
       "      <td>A1QGNMC6O1VW39</td>\n",
       "      <td>0511189877</td>\n",
       "      <td>5.0</td>\n",
       "      <td>1397433600</td>\n",
       "    </tr>\n",
       "    <tr>\n",
       "      <th>6</th>\n",
       "      <td>A3J3BRHTDRFJ2G</td>\n",
       "      <td>0511189877</td>\n",
       "      <td>2.0</td>\n",
       "      <td>1397433600</td>\n",
       "    </tr>\n",
       "    <tr>\n",
       "      <th>7</th>\n",
       "      <td>A2TY0BTJOTENPG</td>\n",
       "      <td>0511189877</td>\n",
       "      <td>5.0</td>\n",
       "      <td>1395878400</td>\n",
       "    </tr>\n",
       "    <tr>\n",
       "      <th>8</th>\n",
       "      <td>A34ATBPOK6HCHY</td>\n",
       "      <td>0511189877</td>\n",
       "      <td>5.0</td>\n",
       "      <td>1395532800</td>\n",
       "    </tr>\n",
       "    <tr>\n",
       "      <th>9</th>\n",
       "      <td>A89DO69P0XZ27</td>\n",
       "      <td>0511189877</td>\n",
       "      <td>5.0</td>\n",
       "      <td>1395446400</td>\n",
       "    </tr>\n",
       "  </tbody>\n",
       "</table>\n",
       "</div>"
      ],
      "text/plain": [
       "           userid   productid  ratings   timestamp\n",
       "0   AKM1MP6P0OYPR  0132793040      5.0  1365811200\n",
       "1  A2CX7LUOHB2NDG  0321732944      5.0  1341100800\n",
       "2  A2NWSAGRHCP8N5  0439886341      1.0  1367193600\n",
       "3  A2WNBOD3WNDNKT  0439886341      3.0  1374451200\n",
       "4  A1GI0U4ZRJA8WN  0439886341      1.0  1334707200\n",
       "5  A1QGNMC6O1VW39  0511189877      5.0  1397433600\n",
       "6  A3J3BRHTDRFJ2G  0511189877      2.0  1397433600\n",
       "7  A2TY0BTJOTENPG  0511189877      5.0  1395878400\n",
       "8  A34ATBPOK6HCHY  0511189877      5.0  1395532800\n",
       "9   A89DO69P0XZ27  0511189877      5.0  1395446400"
      ]
     },
     "execution_count": 3,
     "metadata": {},
     "output_type": "execute_result"
    }
   ],
   "source": [
    "rating.head(10)"
   ]
  },
  {
   "cell_type": "markdown",
   "metadata": {},
   "source": [
    "# Checking the Shape and Type of the Data"
   ]
  },
  {
   "cell_type": "code",
   "execution_count": 4,
   "metadata": {},
   "outputs": [
    {
     "name": "stdout",
     "output_type": "stream",
     "text": [
      "The dataset contains 7824482 rows and 4 columns.\n",
      "<class 'pandas.core.frame.DataFrame'>\n",
      "RangeIndex: 7824482 entries, 0 to 7824481\n",
      "Data columns (total 4 columns):\n",
      " #   Column     Dtype  \n",
      "---  ------     -----  \n",
      " 0   userid     object \n",
      " 1   productid  object \n",
      " 2   ratings    float64\n",
      " 3   timestamp  int64  \n",
      "dtypes: float64(1), int64(1), object(2)\n",
      "memory usage: 238.8+ MB\n"
     ]
    }
   ],
   "source": [
    "rows=len(rating)\n",
    "columns = len(rating.columns)\n",
    "print('The dataset contains %d rows and %d columns.' %(rows,columns))\n",
    "rating.info() #Displays the type of the columns that exist in the dataset"
   ]
  },
  {
   "cell_type": "markdown",
   "metadata": {},
   "source": [
    "- Data has 4 columns and 7.8 million ratings\n",
    "- There are 4 columns in the dataset. It seems that the columns do not contain missing values.\n",
    "- The first 2 columns are nominal in nature. \n",
    "- Timestamp may not be useful unless we want to build complex recommendation system where the recommendations will be based on time of the day.\n",
    "- From the outset, it seems that the rating ranges from 1 to 5 and it doesn't contain the decimals."
   ]
  },
  {
   "cell_type": "markdown",
   "metadata": {},
   "source": [
    "# Frequency distribution of Ratings to confirm the scale"
   ]
  },
  {
   "cell_type": "code",
   "execution_count": 5,
   "metadata": {},
   "outputs": [
    {
     "data": {
      "text/plain": [
       "Text(0.5, 1.0, 'Frequency Distribution by ratings')"
      ]
     },
     "execution_count": 5,
     "metadata": {},
     "output_type": "execute_result"
    },
    {
     "data": {
      "image/png": "[encoded data removed]",
      "text/plain": [
       "<Figure size 432x288 with 1 Axes>"
      ]
     },
     "metadata": {
      "needs_background": "light"
     },
     "output_type": "display_data"
    }
   ],
   "source": [
    "sns.countplot(rating['ratings']).set_title('Frequency Distribution by ratings')"
   ]
  },
  {
   "cell_type": "code",
   "execution_count": 6,
   "metadata": {},
   "outputs": [
    {
     "name": "stdout",
     "output_type": "stream",
     "text": [
      "5.0    0.555633\n",
      "4.0    0.189889\n",
      "1.0    0.115249\n",
      "3.0    0.080909\n",
      "2.0    0.058320\n",
      "Name: ratings, dtype: float64\n"
     ]
    }
   ],
   "source": [
    "prop = rating['ratings'].value_counts(normalize=True)\n",
    "print(prop)"
   ]
  },
  {
   "cell_type": "markdown",
   "metadata": {},
   "source": [
    "The ratings are given on a scale of 1 to 5 and ratings do not contain decimals.<br>\n",
    "~75% of the records have ratings higher than 4 indicating their popularity amongst users."
   ]
  },
  {
   "cell_type": "markdown",
   "metadata": {},
   "source": [
    "Dropping the timestamp column as it will not be used."
   ]
  },
  {
   "cell_type": "code",
   "execution_count": 7,
   "metadata": {},
   "outputs": [],
   "source": [
    "rating.drop('timestamp', axis=1, inplace=True)"
   ]
  },
  {
   "cell_type": "markdown",
   "metadata": {},
   "source": [
    "# Checking for null values"
   ]
  },
  {
   "cell_type": "code",
   "execution_count": 8,
   "metadata": {},
   "outputs": [
    {
     "data": {
      "text/plain": [
       "userid       0\n",
       "productid    0\n",
       "ratings      0\n",
       "dtype: int64"
      ]
     },
     "execution_count": 8,
     "metadata": {},
     "output_type": "execute_result"
    }
   ],
   "source": [
    "rating.isnull().sum()"
   ]
  },
  {
   "cell_type": "markdown",
   "metadata": {},
   "source": [
    "No nulls detected in the columns."
   ]
  },
  {
   "cell_type": "markdown",
   "metadata": {},
   "source": [
    "# Descriptive Statistics of Rating"
   ]
  },
  {
   "cell_type": "code",
   "execution_count": 9,
   "metadata": {
    "scrolled": true
   },
   "outputs": [
    {
     "name": "stdout",
     "output_type": "stream",
     "text": [
      "          ratings\n",
      "count  7824482.00\n",
      "mean         4.01\n",
      "std          1.38\n",
      "min          1.00\n",
      "25%          3.00\n",
      "50%          5.00\n",
      "75%          5.00\n",
      "max          5.00\n"
     ]
    }
   ],
   "source": [
    "desc=rating.describe()\n",
    "# print(desc)\n",
    "desc['ratings']=round(desc['ratings'],2)\n",
    "print(desc)"
   ]
  },
  {
   "cell_type": "markdown",
   "metadata": {},
   "source": [
    "### Rolling up the dataset at \n",
    "- User level : to understand the number of products that users have rated <br>\n",
    "    Generally, most of the users do not rate many products\n",
    "- Product level: to understand the products which were provided ratings by customer <br>\n",
    "    Usually, the popular products have higher reviews/ratings. <br>In some peculiar cases, unpopular products have higher   number of low ratings."
   ]
  },
  {
   "cell_type": "code",
   "execution_count": 10,
   "metadata": {},
   "outputs": [
    {
     "name": "stdout",
     "output_type": "stream",
     "text": [
      "                  userid       ratings                  \n",
      "                         total_ratings avg_ratings   sum\n",
      "0  A00000262KYZUE4J55XGL           1.0         5.0   5.0\n",
      "1  A000063614T1OE0BUSKUT           2.0         5.0  10.0\n",
      "2  A00009182QVLSWIGHLS1B           1.0         5.0   5.0\n",
      "3  A00009661LC9LQPGKJ24G           1.0         5.0   5.0\n",
      "4   A00010809P09NUU6ZP6H           1.0         5.0   5.0\n",
      "<class 'pandas.core.frame.DataFrame'>\n",
      "Int64Index: 4201696 entries, 0 to 4201695\n",
      "Data columns (total 4 columns):\n",
      " #   Column                    Dtype  \n",
      "---  ------                    -----  \n",
      " 0   (userid, )                object \n",
      " 1   (ratings, total_ratings)  float64\n",
      " 2   (ratings, avg_ratings)    float64\n",
      " 3   (ratings, sum)            float64\n",
      "dtypes: float64(3), object(1)\n",
      "memory usage: 160.3+ MB\n",
      "None\n"
     ]
    }
   ],
   "source": [
    "user_rating = pd.DataFrame((rating.groupby(['userid'],as_index=False)\n",
    "                  .agg({'ratings': [np.size, np.mean, np.sum]})\n",
    "                  .rename(columns={'size': 'total_ratings', 'mean': 'avg_ratings'})))\n",
    "print(user_rating.head())\n",
    "print(user_rating.info())"
   ]
  },
  {
   "cell_type": "code",
   "execution_count": 11,
   "metadata": {},
   "outputs": [
    {
     "name": "stdout",
     "output_type": "stream",
     "text": [
      "#Unique users=  4201696\n"
     ]
    }
   ],
   "source": [
    "print(\"#Unique users= \",len(user_rating))"
   ]
  },
  {
   "cell_type": "markdown",
   "metadata": {},
   "source": [
    "# Distribution of Number of products rated by Users"
   ]
  },
  {
   "cell_type": "code",
   "execution_count": 12,
   "metadata": {},
   "outputs": [
    {
     "data": {
      "text/plain": [
       "<matplotlib.axes._subplots.AxesSubplot at 0x23307884fc8>"
      ]
     },
     "execution_count": 12,
     "metadata": {},
     "output_type": "execute_result"
    },
    {
     "data": {
      "image/png": "[encoded data removed]",
      "text/plain": [
       "<Figure size 1440x720 with 1 Axes>"
      ]
     },
     "metadata": {
      "needs_background": "light"
     },
     "output_type": "display_data"
    }
   ],
   "source": [
    "plt.figure(figsize=(20,10))\n",
    "sns.countplot(user_rating.ratings.total_ratings)\n"
   ]
  },
  {
   "cell_type": "markdown",
   "metadata": {},
   "source": [
    "The vast majority of the users have rated less than 5 products.\n",
    "Let us confirm that by looking at the proportions."
   ]
  },
  {
   "cell_type": "code",
   "execution_count": 13,
   "metadata": {},
   "outputs": [
    {
     "name": "stdout",
     "output_type": "stream",
     "text": [
      "       total_ratings\n",
      "1.0             0.69\n",
      "2.0             0.16\n",
      "3.0             0.06\n",
      "4.0             0.03\n",
      "5.0             0.02\n",
      "...              ...\n",
      "200.0           0.00\n",
      "204.0           0.00\n",
      "205.0           0.00\n",
      "208.0           0.00\n",
      "501.0           0.00\n",
      "\n",
      "[215 rows x 1 columns]\n"
     ]
    }
   ],
   "source": [
    "prop =pd.DataFrame(user_rating.ratings.total_ratings.value_counts(normalize=True))\n",
    "prop['total_ratings']=round(prop['total_ratings'],2)\n",
    "print(prop)"
   ]
  },
  {
   "cell_type": "markdown",
   "metadata": {},
   "source": [
    "~90% of the users have rated less than 4 products.\n",
    "Let us look at the distribution of users who have rated 5 products or less than that."
   ]
  },
  {
   "cell_type": "code",
   "execution_count": 14,
   "metadata": {},
   "outputs": [
    {
     "data": {
      "text/plain": [
       "Text(0.5, 1.0, 'Frequency Distribution of users based on number of products rated')"
      ]
     },
     "execution_count": 14,
     "metadata": {},
     "output_type": "execute_result"
    },
    {
     "data": {
      "image/png": "[encoded data removed]",
      "text/plain": [
       "<Figure size 432x288 with 1 Axes>"
      ]
     },
     "metadata": {
      "needs_background": "light"
     },
     "output_type": "display_data"
    }
   ],
   "source": [
    "sns.countplot(user_rating[user_rating.ratings.total_ratings<6].ratings.total_ratings)\n",
    "plt.xlabel(\"No of Products rated\")\n",
    "plt.ylabel(\"No of User\")\n",
    "plt.title('Frequency Distribution of users based on number of products rated')"
   ]
  },
  {
   "cell_type": "code",
   "execution_count": 15,
   "metadata": {},
   "outputs": [
    {
     "name": "stdout",
     "output_type": "stream",
     "text": [
      "    productid       ratings                  \n",
      "              total_ratings avg_ratings   sum\n",
      "0  0132793040           1.0    5.000000   5.0\n",
      "1  0321732944           1.0    5.000000   5.0\n",
      "2  0439886341           3.0    1.666667   5.0\n",
      "3  0511189877           6.0    4.500000  27.0\n",
      "4  0528881469          27.0    2.851852  77.0\n",
      "<class 'pandas.core.frame.DataFrame'>\n",
      "Int64Index: 476002 entries, 0 to 476001\n",
      "Data columns (total 4 columns):\n",
      " #   Column                    Non-Null Count   Dtype  \n",
      "---  ------                    --------------   -----  \n",
      " 0   (productid, )             476002 non-null  object \n",
      " 1   (ratings, total_ratings)  476002 non-null  float64\n",
      " 2   (ratings, avg_ratings)    476002 non-null  float64\n",
      " 3   (ratings, sum)            476002 non-null  float64\n",
      "dtypes: float64(3), object(1)\n",
      "memory usage: 18.2+ MB\n",
      "None\n",
      "#Unique products rated=  476002\n",
      "      total_ratings\n",
      "1.0            0.38\n",
      "2.0            0.15\n",
      "3.0            0.08\n",
      "4.0            0.05\n",
      "5.0            0.04\n",
      "6.0            0.03\n",
      "7.0            0.02\n",
      "8.0            0.02\n",
      "9.0            0.02\n",
      "10.0           0.01\n"
     ]
    },
    {
     "data": {
      "text/plain": [
       "Text(0.5, 1.0, 'Frequency Distribution of products based on #ratings given')"
      ]
     },
     "execution_count": 15,
     "metadata": {},
     "output_type": "execute_result"
    },
    {
     "data": {
      "image/png": "[encoded data removed]",
      "text/plain": [
       "<Figure size 432x288 with 1 Axes>"
      ]
     },
     "metadata": {
      "needs_background": "light"
     },
     "output_type": "display_data"
    }
   ],
   "source": [
    "product_rating = pd.DataFrame((rating.groupby(['productid'],as_index=False)\n",
    "                  .agg({'ratings': [np.size, np.mean, np.sum]})\n",
    "                  .rename(columns={'size': 'total_ratings', 'mean': 'avg_ratings'})))\n",
    "print(product_rating.head())\n",
    "print(product_rating.info())\n",
    "print(\"#Unique products rated= \",len(product_rating))\n",
    "prop =pd.DataFrame(product_rating.ratings.total_ratings.value_counts(normalize=True))\n",
    "prop['total_ratings']=round(prop['total_ratings'],2)\n",
    "print(prop.head(10))\n",
    "sns.countplot(product_rating[product_rating.ratings.total_ratings<11].ratings.total_ratings)\n",
    "plt.xlabel(\"#Ratings given \")\n",
    "plt.ylabel(\"No of Products rated\")\n",
    "plt.title('Frequency Distribution of products based on #ratings given')"
   ]
  },
  {
   "cell_type": "markdown",
   "metadata": {
    "scrolled": true
   },
   "source": [
    "##### ~90% of the customers have rated less than 4 products and at the same time, ~70% of the products have less than 4 ratings as well."
   ]
  },
  {
   "cell_type": "markdown",
   "metadata": {},
   "source": [
    "## Let us look at the top 25 products which have been rated frequently"
   ]
  },
  {
   "cell_type": "code",
   "execution_count": 16,
   "metadata": {},
   "outputs": [
    {
     "data": {
      "text/plain": [
       "Text(0.5, 1.0, 'Most rated products')"
      ]
     },
     "execution_count": 16,
     "metadata": {},
     "output_type": "execute_result"
    },
    {
     "data": {
      "image/png": "[encoded data removed]",
      "text/plain": [
       "<Figure size 1440x720 with 1 Axes>"
      ]
     },
     "metadata": {
      "needs_background": "light"
     },
     "output_type": "display_data"
    }
   ],
   "source": [
    "plt.figure(figsize=(20,10))\n",
    "top25 = rating.groupby('productid')['ratings'].count().sort_values(ascending=False)[:25]\n",
    "sns.barplot(top25.index, top25.values);\n",
    "plt.xticks(rotation=45)\n",
    "plt.ylabel(\"No of Users\")\n",
    "plt.title('Most rated products')"
   ]
  },
  {
   "cell_type": "markdown",
   "metadata": {},
   "source": [
    "## Popularity based recommendation\n",
    "- Considering the top 100 products (based on number of ratings) and recommending the products with highest average ratings\n"
   ]
  },
  {
   "cell_type": "code",
   "execution_count": 17,
   "metadata": {},
   "outputs": [
    {
     "name": "stdout",
     "output_type": "stream",
     "text": [
      "Top recommendation for user A00000262KYZUE4J55XGL is \n",
      "       Product  Rating\n",
      "0  B0052SCU8U     4.8\n",
      "1  B000B9RI14     4.8\n",
      "2  B00E3W15P0     4.8\n",
      "3  B000LRMS66     4.8\n",
      "4  B0019EHU8G     4.8\n",
      "5  B00316263Y     4.7\n",
      "6  B003ES5ZUU     4.7\n",
      "7  B007R5YDYA     4.7\n",
      "8  B000QUUFRW     4.7\n",
      "9  B002V88HFE     4.7\n"
     ]
    }
   ],
   "source": [
    "#taking the most rated products\n",
    "top100 = rating.groupby('productid')['ratings'].count().sort_values(ascending=False)[:100]\n",
    "\n",
    "#filtering the most rated products\n",
    "popular = rating[rating.productid.isin(top100.index)]\n",
    "\n",
    "#Sorting based on the highest average rating of most frequently rated products\n",
    "popular = popular.groupby('productid')['ratings'].mean().sort_values(ascending=False)[:10]\n",
    "recommend = pd.DataFrame({'User_id': 'A00000262KYZUE4J55XGL', 'Product': popular.index, 'Rating' : np.round(popular.values,1)})\n",
    "print(\"Top recommendation for user A00000262KYZUE4J55XGL is \\n\",recommend[['Product', 'Rating']])"
   ]
  },
  {
   "cell_type": "code",
   "execution_count": 18,
   "metadata": {},
   "outputs": [
    {
     "name": "stdout",
     "output_type": "stream",
     "text": [
      "Top recommendation for user A000063614T1OE0BUSKUT is \n",
      "       Product  Rating\n",
      "0  B0052SCU8U     4.8\n",
      "1  B000B9RI14     4.8\n",
      "2  B00E3W15P0     4.8\n",
      "3  B000LRMS66     4.8\n",
      "4  B0019EHU8G     4.8\n",
      "5  B00316263Y     4.7\n",
      "6  B003ES5ZUU     4.7\n",
      "7  B007R5YDYA     4.7\n",
      "8  B000QUUFRW     4.7\n",
      "9  B002V88HFE     4.7\n"
     ]
    }
   ],
   "source": [
    "#taking the most rated products\n",
    "top100 = rating.groupby('productid')['ratings'].count().sort_values(ascending=False)[:100]\n",
    "\n",
    "#filtering the most rated products\n",
    "popular = rating[rating.productid.isin(top100.index)]\n",
    "\n",
    "#Sorting based on the highest average rating of most frequently rated products\n",
    "popular = popular.groupby('productid')['ratings'].mean().sort_values(ascending=False)[:10]\n",
    "recommend = pd.DataFrame({'User_id': 'A000063614T1OE0BUSKUT', 'Product': popular.index, 'Rating' : np.round(popular.values,1)})\n",
    "print(\"Top recommendation for user A000063614T1OE0BUSKUT is \\n\",recommend[['Product', 'Rating']])"
   ]
  },
  {
   "cell_type": "markdown",
   "metadata": {},
   "source": [
    "### Let us remove the rarely rated products (rated less than 50 times)\n",
    "### Also removing users who have rated less than 50 products\n",
    "\n",
    "- Initially tried with users who have rated at least 20 products and products which were rated at least 20 times\n",
    "- However, increasing the limit from 20 to 50 as i was facing memory issues"
   ]
  },
  {
   "cell_type": "code",
   "execution_count": 19,
   "metadata": {},
   "outputs": [
    {
     "data": {
      "text/html": [
       "<div>\n",
       "<style scoped>\n",
       "    .dataframe tbody tr th:only-of-type {\n",
       "        vertical-align: middle;\n",
       "    }\n",
       "\n",
       "    .dataframe tbody tr th {\n",
       "        vertical-align: top;\n",
       "    }\n",
       "\n",
       "    .dataframe thead th {\n",
       "        text-align: right;\n",
       "    }\n",
       "</style>\n",
       "<table border=\"1\" class=\"dataframe\">\n",
       "  <thead>\n",
       "    <tr style=\"text-align: right;\">\n",
       "      <th></th>\n",
       "      <th>userid</th>\n",
       "      <th>productid</th>\n",
       "      <th>ratings</th>\n",
       "    </tr>\n",
       "  </thead>\n",
       "  <tbody>\n",
       "    <tr>\n",
       "      <th>492</th>\n",
       "      <td>A3CLWR1UUZT6TG</td>\n",
       "      <td>0972683275</td>\n",
       "      <td>5.0</td>\n",
       "    </tr>\n",
       "    <tr>\n",
       "      <th>631</th>\n",
       "      <td>A3TAS1AG6FMBQW</td>\n",
       "      <td>0972683275</td>\n",
       "      <td>5.0</td>\n",
       "    </tr>\n",
       "    <tr>\n",
       "      <th>1003</th>\n",
       "      <td>A2Y4H3PXB07WQI</td>\n",
       "      <td>0972683275</td>\n",
       "      <td>4.0</td>\n",
       "    </tr>\n",
       "    <tr>\n",
       "      <th>1138</th>\n",
       "      <td>A25RTRAPQAJBDJ</td>\n",
       "      <td>0972683275</td>\n",
       "      <td>5.0</td>\n",
       "    </tr>\n",
       "    <tr>\n",
       "      <th>1310</th>\n",
       "      <td>A3LDPF5FMB782Z</td>\n",
       "      <td>1400501466</td>\n",
       "      <td>5.0</td>\n",
       "    </tr>\n",
       "  </tbody>\n",
       "</table>\n",
       "</div>"
      ],
      "text/plain": [
       "              userid   productid  ratings\n",
       "492   A3CLWR1UUZT6TG  0972683275      5.0\n",
       "631   A3TAS1AG6FMBQW  0972683275      5.0\n",
       "1003  A2Y4H3PXB07WQI  0972683275      4.0\n",
       "1138  A25RTRAPQAJBDJ  0972683275      5.0\n",
       "1310  A3LDPF5FMB782Z  1400501466      5.0"
      ]
     },
     "execution_count": 19,
     "metadata": {},
     "output_type": "execute_result"
    }
   ],
   "source": [
    "user_counts=rating['userid'].value_counts()\n",
    "product_counts = rating['productid'].value_counts()\n",
    "\n",
    "user_subset = user_counts[user_counts>=50].index\n",
    "product_subset = product_counts[product_counts>=50].index\n",
    "rating_subset = rating[rating[\"userid\"].isin(user_subset) & rating[\"productid\"].isin(product_subset)]\n",
    "rating_subset.head()"
   ]
  },
  {
   "cell_type": "markdown",
   "metadata": {},
   "source": [
    "## Importing the Surprise libraries \n",
    "## Loading the dataframe to the surprise library Dataset to build collaborative filtering model"
   ]
  },
  {
   "cell_type": "code",
   "execution_count": 20,
   "metadata": {},
   "outputs": [],
   "source": [
    "from surprise import Dataset, Reader, accuracy, SVD, SVDpp, NMF, SlopeOne\n",
    "from surprise import KNNBasic, KNNWithMeans, KNNBaseline, CoClustering, BaselineOnly, NormalPredictor\n",
    "from surprise.model_selection import cross_validate\n",
    "\n",
    "data = Dataset.load_from_df(rating_subset, reader=Reader(sep=',')) "
   ]
  },
  {
   "cell_type": "markdown",
   "metadata": {},
   "source": [
    "## Model Selection\n",
    "- Using all the models available in surprise library to predict the ratings\n",
    "- Then collecting the performance of all the models in a Dataframe to select the best suited model\n",
    "\n",
    "- Took Abinesh's help to write the for loop"
   ]
  },
  {
   "cell_type": "code",
   "execution_count": 21,
   "metadata": {},
   "outputs": [
    {
     "name": "stdout",
     "output_type": "stream",
     "text": [
      "Computing the msd similarity matrix...\n",
      "Done computing similarity matrix.\n",
      "Computing the msd similarity matrix...\n",
      "Done computing similarity matrix.\n",
      "Computing the msd similarity matrix...\n",
      "Done computing similarity matrix.\n",
      "Computing the msd similarity matrix...\n",
      "Done computing similarity matrix.\n",
      "Computing the msd similarity matrix...\n",
      "Done computing similarity matrix.\n",
      "Computing the msd similarity matrix...\n",
      "Done computing similarity matrix.\n",
      "Computing the msd similarity matrix...\n",
      "Done computing similarity matrix.\n",
      "Computing the msd similarity matrix...\n",
      "Done computing similarity matrix.\n",
      "Computing the msd similarity matrix...\n",
      "Done computing similarity matrix.\n",
      "Computing the msd similarity matrix...\n",
      "Done computing similarity matrix.\n",
      "Estimating biases using als...\n",
      "Computing the msd similarity matrix...\n",
      "Done computing similarity matrix.\n",
      "Estimating biases using als...\n",
      "Computing the msd similarity matrix...\n",
      "Done computing similarity matrix.\n",
      "Estimating biases using als...\n",
      "Computing the msd similarity matrix...\n",
      "Done computing similarity matrix.\n",
      "Estimating biases using als...\n",
      "Computing the msd similarity matrix...\n",
      "Done computing similarity matrix.\n",
      "Estimating biases using als...\n",
      "Computing the msd similarity matrix...\n",
      "Done computing similarity matrix.\n",
      "Estimating biases using als...\n",
      "Estimating biases using als...\n",
      "Estimating biases using als...\n",
      "Estimating biases using als...\n",
      "Estimating biases using als...\n"
     ]
    }
   ],
   "source": [
    "algorithms = [SVD(), SVDpp(), NMF(),  KNNBasic(), \n",
    "              KNNWithMeans(), KNNBaseline(), CoClustering(), \n",
    "              BaselineOnly(), NormalPredictor()]\n",
    "performance = pd.DataFrame(columns=['Algorithm', 'RMSE'])\n",
    "# performance['RMSE']\n",
    "for algo in algorithms:\n",
    "    cv = cross_validate(algo, data, measures=['rmse']) \n",
    "    performance = performance.append({\n",
    "    'Algorithm': str(algo).split(' ')[0].split('.')[-1],'RMSE': cv['test_rmse'].mean()}, ignore_index=True)"
   ]
  },
  {
   "cell_type": "markdown",
   "metadata": {},
   "source": [
    "I will be using Root Mean Squared error between True and Predicted ratings to select the model. <br>\n",
    "The algorithm with the least RMSE will be picked."
   ]
  },
  {
   "cell_type": "code",
   "execution_count": 22,
   "metadata": {},
   "outputs": [
    {
     "data": {
      "text/html": [
       "<div>\n",
       "<style scoped>\n",
       "    .dataframe tbody tr th:only-of-type {\n",
       "        vertical-align: middle;\n",
       "    }\n",
       "\n",
       "    .dataframe tbody tr th {\n",
       "        vertical-align: top;\n",
       "    }\n",
       "\n",
       "    .dataframe thead th {\n",
       "        text-align: right;\n",
       "    }\n",
       "</style>\n",
       "<table border=\"1\" class=\"dataframe\">\n",
       "  <thead>\n",
       "    <tr style=\"text-align: right;\">\n",
       "      <th></th>\n",
       "      <th>Algorithm</th>\n",
       "      <th>RMSE</th>\n",
       "    </tr>\n",
       "  </thead>\n",
       "  <tbody>\n",
       "    <tr>\n",
       "      <th>0</th>\n",
       "      <td>SVD</td>\n",
       "      <td>0.958617</td>\n",
       "    </tr>\n",
       "    <tr>\n",
       "      <th>1</th>\n",
       "      <td>SVDpp</td>\n",
       "      <td>0.957691</td>\n",
       "    </tr>\n",
       "    <tr>\n",
       "      <th>2</th>\n",
       "      <td>NMF</td>\n",
       "      <td>1.133032</td>\n",
       "    </tr>\n",
       "    <tr>\n",
       "      <th>3</th>\n",
       "      <td>KNNBasic</td>\n",
       "      <td>1.104212</td>\n",
       "    </tr>\n",
       "    <tr>\n",
       "      <th>4</th>\n",
       "      <td>KNNWithMeans</td>\n",
       "      <td>1.042144</td>\n",
       "    </tr>\n",
       "    <tr>\n",
       "      <th>5</th>\n",
       "      <td>KNNBaseline</td>\n",
       "      <td>1.039945</td>\n",
       "    </tr>\n",
       "    <tr>\n",
       "      <th>6</th>\n",
       "      <td>CoClustering</td>\n",
       "      <td>1.054298</td>\n",
       "    </tr>\n",
       "    <tr>\n",
       "      <th>7</th>\n",
       "      <td>BaselineOnly</td>\n",
       "      <td>0.952441</td>\n",
       "    </tr>\n",
       "    <tr>\n",
       "      <th>8</th>\n",
       "      <td>NormalPredictor</td>\n",
       "      <td>1.321639</td>\n",
       "    </tr>\n",
       "  </tbody>\n",
       "</table>\n",
       "</div>"
      ],
      "text/plain": [
       "         Algorithm      RMSE\n",
       "0              SVD  0.958617\n",
       "1            SVDpp  0.957691\n",
       "2              NMF  1.133032\n",
       "3         KNNBasic  1.104212\n",
       "4     KNNWithMeans  1.042144\n",
       "5      KNNBaseline  1.039945\n",
       "6     CoClustering  1.054298\n",
       "7     BaselineOnly  0.952441\n",
       "8  NormalPredictor  1.321639"
      ]
     },
     "execution_count": 22,
     "metadata": {},
     "output_type": "execute_result"
    }
   ],
   "source": [
    "performance"
   ]
  },
  {
   "cell_type": "code",
   "execution_count": 23,
   "metadata": {},
   "outputs": [
    {
     "name": "stdout",
     "output_type": "stream",
     "text": [
      "      Algorithm      RMSE\n",
      "7  BaselineOnly  0.952441\n"
     ]
    }
   ],
   "source": [
    "print(performance[performance.RMSE == performance.RMSE.min()]) \n"
   ]
  },
  {
   "cell_type": "markdown",
   "metadata": {},
   "source": [
    "BaselineOnly algorithm has the lowest RMSE. Hence, i will be sticking with this algorithm."
   ]
  },
  {
   "cell_type": "markdown",
   "metadata": {},
   "source": [
    "### Splitting the data into train test split and fitting the model"
   ]
  },
  {
   "cell_type": "code",
   "execution_count": 24,
   "metadata": {},
   "outputs": [
    {
     "name": "stdout",
     "output_type": "stream",
     "text": [
      "Estimating biases using als...\n",
      "RMSE: 0.9514\n"
     ]
    },
    {
     "data": {
      "text/plain": [
       "0.9514372945787344"
      ]
     },
     "execution_count": 24,
     "metadata": {},
     "output_type": "execute_result"
    }
   ],
   "source": [
    "from surprise.model_selection import train_test_split, cross_validate\n",
    "train , test = train_test_split(data, test_size=0.3, random_state=2)\n",
    "model = BaselineOnly()\n",
    "model.fit(train)\n",
    "prediction = model.test(test)\n",
    "accuracy.rmse(prediction)"
   ]
  },
  {
   "cell_type": "markdown",
   "metadata": {},
   "source": [
    "##### Let us build Recommendation System to recommend products that haven't been purchased by users\n",
    "- The build_anti_testset function will help us in extracting products which are not yet rated by users\n",
    "- The model will be predicting the ratings and the products with high ratings will be suggested to users\n"
   ]
  },
  {
   "cell_type": "code",
   "execution_count": 26,
   "metadata": {},
   "outputs": [],
   "source": [
    "recom_data = data.build_full_trainset()\n",
    "recom_data = recom_data.build_anti_testset()\n",
    "recom_pred = model.test(recom_data)"
   ]
  },
  {
   "cell_type": "code",
   "execution_count": 27,
   "metadata": {},
   "outputs": [],
   "source": [
    "from collections import defaultdict\n",
    "user_dict = defaultdict(list)\n",
    "for uid, iid, r_ui, est, _ in recom_pred:\n",
    "    user_dict[uid].append((iid, est)) "
   ]
  },
  {
   "cell_type": "markdown",
   "metadata": {},
   "source": [
    "Collaborative Filtering model is built for users who have rated atleast 50 products.\n",
    "I had to resort to this because of memory issues.\n",
    "\n",
    "* So below function ensures that if the userid is missing, it will print a message asking to use Popularity based recommendation system"
   ]
  },
  {
   "cell_type": "code",
   "execution_count": 40,
   "metadata": {},
   "outputs": [],
   "source": [
    "def top_n_recommendations(userid):\n",
    "    \n",
    "    if userid in user_dict.keys():\n",
    "        per_user_dict = {key : values for key, values in user_dict.items() if key == userid}\n",
    "        per_user_dict[userid].sort(key = lambda x : x[1], reverse = True)\n",
    "        per_user_dict[userid] = per_user_dict[userid][:10]\n",
    "        print(\"Top {} recommended products for {} is \\n\" .format(10, userid))\n",
    "        print(*[i[0] for i in per_user_dict[userid]], sep = '\\n')\n",
    "        print('\\n')\n",
    "    else:\n",
    "        print('Use Popularity Based Recommendation System for ',userid)"
   ]
  },
  {
   "cell_type": "code",
   "execution_count": 42,
   "metadata": {},
   "outputs": [
    {
     "name": "stdout",
     "output_type": "stream",
     "text": [
      "Use Popularity Based Recommendation System for  A1H8PY3QHMQQA0\n",
      "Top 10 recommended products for A2Y4H3PXB07WQI is \n",
      "\n",
      "B0019EHU8G\n",
      "B0052SCU8U\n",
      "B001TH7GUU\n",
      "B000N99BBC\n",
      "B0000BZL1P\n",
      "B008JJLW4M\n",
      "B008EQZ25K\n",
      "B00017LSPI\n",
      "B001TH7T2U\n",
      "B009NB8WR0\n",
      "\n",
      "\n",
      "Top 10 recommended products for A3LDPF5FMB782Z is \n",
      "\n",
      "B0019EHU8G\n",
      "B0052SCU8U\n",
      "B001TH7GUU\n",
      "B000N99BBC\n",
      "B003ES5ZUU\n",
      "B0000BZL1P\n",
      "B008JJLW4M\n",
      "B008EQZ25K\n",
      "B00017LSPI\n",
      "B001TH7T2U\n",
      "\n",
      "\n"
     ]
    }
   ],
   "source": [
    "top_n_recommendations('A1H8PY3QHMQQA0')\n",
    "\n",
    "\n",
    "top_n_recommendations('A2Y4H3PXB07WQI')\n",
    "top_n_recommendations('A3LDPF5FMB782Z')"
   ]
  },
  {
   "cell_type": "markdown",
   "metadata": {},
   "source": [
    "It is pure coincidence that the first four recommendations are matching for both the users.\n",
    "<br> However, we can see the change as we go down the list of recommendations.\n",
    "<br> A2Y4H3PXB07WQI user was recommended product B009NB8WR0. However, A3LDPF5FMB782Z was not recommended the same product."
   ]
  },
  {
   "cell_type": "markdown",
   "metadata": {},
   "source": [
    "## Observations\n",
    "- This solution can be used by ecommerce portal to cross sell the related products and increase revenue\n",
    "- Recommendation systems add a touch of personalization\n",
    "- This will enhance the user experience as the users/ customers will come across related/ popular products\n",
    "- The enhanced user experience might lead to higher conversion\n",
    "- However, the relevance might be affected when the suggestions are based on popularity model alone\n",
    "<br>\n",
    "<br>\n",
    "- Two major drawbacks are\n",
    "    -- the cold start problem \n",
    "    -- and the computation intensive nature of building such models"
   ]
  },
  {
   "cell_type": "code",
   "execution_count": null,
   "metadata": {},
   "outputs": [],
   "source": []
  }
 ],
 "metadata": {
  "kernelspec": {
   "display_name": "Python 3",
   "language": "python",
   "name": "python3"
  },
  "language_info": {
   "codemirror_mode": {
    "name": "ipython",
    "version": 3
   },
   "file_extension": ".py",
   "mimetype": "text/x-python",
   "name": "python",
   "nbconvert_exporter": "python",
   "pygments_lexer": "ipython3",
   "version": "3.7.6"
  }
 },
 "nbformat": 4,
 "nbformat_minor": 2
}
